{
 "cells": [
  {
   "cell_type": "markdown",
   "metadata": {},
   "source": [
    "## Análisis de datos - Clase 1"
   ]
  },
  {
   "cell_type": "markdown",
   "metadata": {},
   "source": [
    "### Carga de datos y visualización rápida\n",
    "\n",
    "#### En esta notebook repasaremos distintas maneras de recolectar datos para luego procesarlos con la biblioteca Pandas."
   ]
  },
  {
   "cell_type": "code",
   "execution_count": 1,
   "metadata": {},
   "outputs": [],
   "source": [
    "import pandas as pd\n",
    "import requests\n",
    "from bs4 import BeautifulSoup\n",
    "from sqlalchemy import create_engine, MetaData, text\n",
    "import json\n",
    "from io import StringIO"
   ]
  },
  {
   "cell_type": "code",
   "execution_count": 2,
   "metadata": {},
   "outputs": [],
   "source": [
    "# en Google Drive\n",
    "# from google.colab import drive\n",
    "# drive.mount('/content/drive')"
   ]
  },
  {
   "cell_type": "markdown",
   "metadata": {},
   "source": [
    "#### 1. Cargar datos desde un archivo CSV a un df de Pandas"
   ]
  },
  {
   "cell_type": "code",
   "execution_count": 2,
   "metadata": {},
   "outputs": [],
   "source": [
    "\n",
    "df_csv = pd.read_csv(\"https://people.sc.fsu.edu/~jburkardt/data/csv/airtravel.csv\")\n",
    "\n",
    "# Otros formatos comunes: pd.read_parquet, pd.read_json, pd.read_html"
   ]
  },
  {
   "cell_type": "code",
   "execution_count": 3,
   "metadata": {},
   "outputs": [
    {
     "data": {
      "text/html": [
       "<div>\n",
       "<style scoped>\n",
       "    .dataframe tbody tr th:only-of-type {\n",
       "        vertical-align: middle;\n",
       "    }\n",
       "\n",
       "    .dataframe tbody tr th {\n",
       "        vertical-align: top;\n",
       "    }\n",
       "\n",
       "    .dataframe thead th {\n",
       "        text-align: right;\n",
       "    }\n",
       "</style>\n",
       "<table border=\"1\" class=\"dataframe\">\n",
       "  <thead>\n",
       "    <tr style=\"text-align: right;\">\n",
       "      <th></th>\n",
       "      <th>Month</th>\n",
       "      <th>\"1958\"</th>\n",
       "      <th>\"1959\"</th>\n",
       "      <th>\"1960\"</th>\n",
       "    </tr>\n",
       "  </thead>\n",
       "  <tbody>\n",
       "    <tr>\n",
       "      <th>0</th>\n",
       "      <td>JAN</td>\n",
       "      <td>340</td>\n",
       "      <td>360</td>\n",
       "      <td>417</td>\n",
       "    </tr>\n",
       "    <tr>\n",
       "      <th>1</th>\n",
       "      <td>FEB</td>\n",
       "      <td>318</td>\n",
       "      <td>342</td>\n",
       "      <td>391</td>\n",
       "    </tr>\n",
       "    <tr>\n",
       "      <th>2</th>\n",
       "      <td>MAR</td>\n",
       "      <td>362</td>\n",
       "      <td>406</td>\n",
       "      <td>419</td>\n",
       "    </tr>\n",
       "    <tr>\n",
       "      <th>3</th>\n",
       "      <td>APR</td>\n",
       "      <td>348</td>\n",
       "      <td>396</td>\n",
       "      <td>461</td>\n",
       "    </tr>\n",
       "    <tr>\n",
       "      <th>4</th>\n",
       "      <td>MAY</td>\n",
       "      <td>363</td>\n",
       "      <td>420</td>\n",
       "      <td>472</td>\n",
       "    </tr>\n",
       "  </tbody>\n",
       "</table>\n",
       "</div>"
      ],
      "text/plain": [
       "  Month   \"1958\"   \"1959\"   \"1960\"\n",
       "0   JAN      340      360      417\n",
       "1   FEB      318      342      391\n",
       "2   MAR      362      406      419\n",
       "3   APR      348      396      461\n",
       "4   MAY      363      420      472"
      ]
     },
     "execution_count": 3,
     "metadata": {},
     "output_type": "execute_result"
    }
   ],
   "source": [
    "# Mostrar las primeras filas (las 5 primeras por defecto)\n",
    "df_csv.head()  "
   ]
  },
  {
   "cell_type": "code",
   "execution_count": 4,
   "metadata": {},
   "outputs": [
    {
     "data": {
      "text/html": [
       "<div>\n",
       "<style scoped>\n",
       "    .dataframe tbody tr th:only-of-type {\n",
       "        vertical-align: middle;\n",
       "    }\n",
       "\n",
       "    .dataframe tbody tr th {\n",
       "        vertical-align: top;\n",
       "    }\n",
       "\n",
       "    .dataframe thead th {\n",
       "        text-align: right;\n",
       "    }\n",
       "</style>\n",
       "<table border=\"1\" class=\"dataframe\">\n",
       "  <thead>\n",
       "    <tr style=\"text-align: right;\">\n",
       "      <th></th>\n",
       "      <th>Month</th>\n",
       "      <th>\"1958\"</th>\n",
       "      <th>\"1959\"</th>\n",
       "      <th>\"1960\"</th>\n",
       "    </tr>\n",
       "  </thead>\n",
       "  <tbody>\n",
       "    <tr>\n",
       "      <th>6</th>\n",
       "      <td>JUL</td>\n",
       "      <td>491</td>\n",
       "      <td>548</td>\n",
       "      <td>622</td>\n",
       "    </tr>\n",
       "    <tr>\n",
       "      <th>7</th>\n",
       "      <td>AUG</td>\n",
       "      <td>505</td>\n",
       "      <td>559</td>\n",
       "      <td>606</td>\n",
       "    </tr>\n",
       "    <tr>\n",
       "      <th>8</th>\n",
       "      <td>SEP</td>\n",
       "      <td>404</td>\n",
       "      <td>463</td>\n",
       "      <td>508</td>\n",
       "    </tr>\n",
       "    <tr>\n",
       "      <th>9</th>\n",
       "      <td>OCT</td>\n",
       "      <td>359</td>\n",
       "      <td>407</td>\n",
       "      <td>461</td>\n",
       "    </tr>\n",
       "    <tr>\n",
       "      <th>10</th>\n",
       "      <td>NOV</td>\n",
       "      <td>310</td>\n",
       "      <td>362</td>\n",
       "      <td>390</td>\n",
       "    </tr>\n",
       "    <tr>\n",
       "      <th>11</th>\n",
       "      <td>DEC</td>\n",
       "      <td>337</td>\n",
       "      <td>405</td>\n",
       "      <td>432</td>\n",
       "    </tr>\n",
       "  </tbody>\n",
       "</table>\n",
       "</div>"
      ],
      "text/plain": [
       "   Month   \"1958\"   \"1959\"   \"1960\"\n",
       "6    JUL      491      548      622\n",
       "7    AUG      505      559      606\n",
       "8    SEP      404      463      508\n",
       "9    OCT      359      407      461\n",
       "10   NOV      310      362      390\n",
       "11   DEC      337      405      432"
      ]
     },
     "execution_count": 4,
     "metadata": {},
     "output_type": "execute_result"
    }
   ],
   "source": [
    "df_csv.tail(6) # Mostrar las últimas 6 filas"
   ]
  },
  {
   "cell_type": "markdown",
   "metadata": {},
   "source": [
    "#### 2. Recolectar datos a través de una API"
   ]
  },
  {
   "cell_type": "code",
   "execution_count": 5,
   "metadata": {},
   "outputs": [
    {
     "name": "stdout",
     "output_type": "stream",
     "text": [
      "Se obtuvo respuesta!\n"
     ]
    }
   ],
   "source": [
    "\n",
    "# Ejemplo: API del SMN Argentino\n",
    "\n",
    "url_smn = \"https://ws.smn.gob.ar/map_items/forecast/1\" # Forecast de 1 día\n",
    "response_smn = requests.get(url_smn)\n",
    "\n",
    "if response_smn.status_code == 200:\n",
    "    data_smn = response_smn.json()\n",
    "    print(\"Se obtuvo respuesta!\")\n",
    "    \n",
    "else:\n",
    "    print(f\"Se produjo un error: {response_smn.status_code}\")"
   ]
  },
  {
   "cell_type": "code",
   "execution_count": 6,
   "metadata": {},
   "outputs": [
    {
     "data": {
      "text/plain": [
       "[{'_id': '609d947e818e15902c74d831',\n",
       "  'dist': 20.55,\n",
       "  'lid': 9539,\n",
       "  'fid': 9539,\n",
       "  'name': 'Tunuyan',\n",
       "  'province': 'Mendoza',\n",
       "  'lat': '-33.58210373',\n",
       "  'lon': '-69.02268982',\n",
       "  'zoom': '2',\n",
       "  'updated': 1557349200,\n",
       "  'weather': {'day': 1,\n",
       "   'morning_temp': 10,\n",
       "   'morning_id': 2,\n",
       "   'morning_desc': 'Cielo parcialmente nublado. Vientos leves del sector sur.',\n",
       "   'afternoon_temp': 22,\n",
       "   'afternoon_id': 14,\n",
       "   'afternoon_desc': 'Nubosidad variable. Probabilidad de tormentas aisladas. Vientos leves del sector sur.'}},\n",
       " {'_id': '609d947e818e15902c74d836',\n",
       "  'dist': 7.12,\n",
       "  'lid': 9553,\n",
       "  'fid': 9553,\n",
       "  'name': 'San Rafael',\n",
       "  'province': 'Mendoza',\n",
       "  'lat': '-34.60757828',\n",
       "  'lon': '-68.32798004',\n",
       "  'zoom': '2',\n",
       "  'updated': 1557349200,\n",
       "  'weather': {'day': 1,\n",
       "   'morning_temp': 13,\n",
       "   'morning_id': 4,\n",
       "   'morning_desc': 'Cielo nublado. Probabilidad de lluvias y tormentas, algunas fuertes. Vientos leves del sector norte, cambiando a moderados o regulares del sector sur con ráfagas.',\n",
       "   'afternoon_temp': 18,\n",
       "   'afternoon_id': 3,\n",
       "   'afternoon_desc': 'Nubosidad variable. Probabilidad de lluvias y chaparrones. Vientos moderados a leves del sector sur.'}}]"
      ]
     },
     "execution_count": 6,
     "metadata": {},
     "output_type": "execute_result"
    }
   ],
   "source": [
    "data_smn[:2]"
   ]
  },
  {
   "cell_type": "markdown",
   "metadata": {},
   "source": [
    "¿Como obtengo un dataframe a partir de la respuesta de la API?"
   ]
  },
  {
   "cell_type": "code",
   "execution_count": null,
   "metadata": {},
   "outputs": [
    {
     "data": {
      "text/html": [
       "<div>\n",
       "<style scoped>\n",
       "    .dataframe tbody tr th:only-of-type {\n",
       "        vertical-align: middle;\n",
       "    }\n",
       "\n",
       "    .dataframe tbody tr th {\n",
       "        vertical-align: top;\n",
       "    }\n",
       "\n",
       "    .dataframe thead th {\n",
       "        text-align: right;\n",
       "    }\n",
       "</style>\n",
       "<table border=\"1\" class=\"dataframe\">\n",
       "  <thead>\n",
       "    <tr style=\"text-align: right;\">\n",
       "      <th></th>\n",
       "      <th>_id</th>\n",
       "      <th>dist</th>\n",
       "      <th>lid</th>\n",
       "      <th>fid</th>\n",
       "      <th>name</th>\n",
       "      <th>province</th>\n",
       "      <th>lat</th>\n",
       "      <th>lon</th>\n",
       "      <th>zoom</th>\n",
       "      <th>updated</th>\n",
       "      <th>weather</th>\n",
       "    </tr>\n",
       "  </thead>\n",
       "  <tbody>\n",
       "    <tr>\n",
       "      <th>0</th>\n",
       "      <td>609d947e818e15902c74d831</td>\n",
       "      <td>20.55</td>\n",
       "      <td>9539</td>\n",
       "      <td>9539</td>\n",
       "      <td>Tunuyan</td>\n",
       "      <td>Mendoza</td>\n",
       "      <td>-33.58210373</td>\n",
       "      <td>-69.02268982</td>\n",
       "      <td>2</td>\n",
       "      <td>1557349200</td>\n",
       "      <td>{'day': 1, 'morning_temp': 10, 'morning_id': 2...</td>\n",
       "    </tr>\n",
       "    <tr>\n",
       "      <th>1</th>\n",
       "      <td>609d947e818e15902c74d836</td>\n",
       "      <td>7.12</td>\n",
       "      <td>9553</td>\n",
       "      <td>9553</td>\n",
       "      <td>San Rafael</td>\n",
       "      <td>Mendoza</td>\n",
       "      <td>-34.60757828</td>\n",
       "      <td>-68.32798004</td>\n",
       "      <td>2</td>\n",
       "      <td>1557349200</td>\n",
       "      <td>{'day': 1, 'morning_temp': 13, 'morning_id': 4...</td>\n",
       "    </tr>\n",
       "    <tr>\n",
       "      <th>2</th>\n",
       "      <td>609d947e818e15902c74d83b</td>\n",
       "      <td>77.99</td>\n",
       "      <td>9560</td>\n",
       "      <td>9560</td>\n",
       "      <td>General Alvear</td>\n",
       "      <td>Mendoza</td>\n",
       "      <td>-34.9721489</td>\n",
       "      <td>-67.68930054</td>\n",
       "      <td>2</td>\n",
       "      <td>1557349200</td>\n",
       "      <td>{'day': 1, 'morning_temp': 11, 'morning_id': 4...</td>\n",
       "    </tr>\n",
       "    <tr>\n",
       "      <th>3</th>\n",
       "      <td>609d947e818e15902c74d840</td>\n",
       "      <td>66.80</td>\n",
       "      <td>4164</td>\n",
       "      <td>4164</td>\n",
       "      <td>San Bernardo</td>\n",
       "      <td>Buenos Aires</td>\n",
       "      <td>-36.69836044</td>\n",
       "      <td>-56.67993927</td>\n",
       "      <td>2</td>\n",
       "      <td>1557306000</td>\n",
       "      <td>{'day': 1, 'morning_temp': 12, 'morning_id': 1...</td>\n",
       "    </tr>\n",
       "    <tr>\n",
       "      <th>4</th>\n",
       "      <td>609d947e818e15902c74d844</td>\n",
       "      <td>64.47</td>\n",
       "      <td>9629</td>\n",
       "      <td>9629</td>\n",
       "      <td>Apóstoles</td>\n",
       "      <td>Misiones</td>\n",
       "      <td>-27.91513062</td>\n",
       "      <td>-55.75431442</td>\n",
       "      <td>2</td>\n",
       "      <td>1557349200</td>\n",
       "      <td>{'day': 1, 'morning_temp': 19, 'morning_id': 4...</td>\n",
       "    </tr>\n",
       "  </tbody>\n",
       "</table>\n",
       "</div>"
      ],
      "text/plain": [
       "                        _id   dist   lid   fid            name      province  \\\n",
       "0  609d947e818e15902c74d831  20.55  9539  9539         Tunuyan       Mendoza   \n",
       "1  609d947e818e15902c74d836   7.12  9553  9553      San Rafael       Mendoza   \n",
       "2  609d947e818e15902c74d83b  77.99  9560  9560  General Alvear       Mendoza   \n",
       "3  609d947e818e15902c74d840  66.80  4164  4164    San Bernardo  Buenos Aires   \n",
       "4  609d947e818e15902c74d844  64.47  9629  9629       Apóstoles      Misiones   \n",
       "\n",
       "            lat           lon zoom     updated  \\\n",
       "0  -33.58210373  -69.02268982    2  1557349200   \n",
       "1  -34.60757828  -68.32798004    2  1557349200   \n",
       "2   -34.9721489  -67.68930054    2  1557349200   \n",
       "3  -36.69836044  -56.67993927    2  1557306000   \n",
       "4  -27.91513062  -55.75431442    2  1557349200   \n",
       "\n",
       "                                             weather  \n",
       "0  {'day': 1, 'morning_temp': 10, 'morning_id': 2...  \n",
       "1  {'day': 1, 'morning_temp': 13, 'morning_id': 4...  \n",
       "2  {'day': 1, 'morning_temp': 11, 'morning_id': 4...  \n",
       "3  {'day': 1, 'morning_temp': 12, 'morning_id': 1...  \n",
       "4  {'day': 1, 'morning_temp': 19, 'morning_id': 4...  "
      ]
     },
     "execution_count": 9,
     "metadata": {},
     "output_type": "execute_result"
    }
   ],
   "source": [
    "# Primera forma \n",
    "\n",
    "df_api_1 = pd.DataFrame(data_smn)\n",
    "\n",
    "df_api_1.head()"
   ]
  },
  {
   "cell_type": "code",
   "execution_count": 10,
   "metadata": {},
   "outputs": [
    {
     "data": {
      "text/html": [
       "<div>\n",
       "<style scoped>\n",
       "    .dataframe tbody tr th:only-of-type {\n",
       "        vertical-align: middle;\n",
       "    }\n",
       "\n",
       "    .dataframe tbody tr th {\n",
       "        vertical-align: top;\n",
       "    }\n",
       "\n",
       "    .dataframe thead th {\n",
       "        text-align: right;\n",
       "    }\n",
       "</style>\n",
       "<table border=\"1\" class=\"dataframe\">\n",
       "  <thead>\n",
       "    <tr style=\"text-align: right;\">\n",
       "      <th></th>\n",
       "      <th>_id</th>\n",
       "      <th>dist</th>\n",
       "      <th>lid</th>\n",
       "      <th>fid</th>\n",
       "      <th>name</th>\n",
       "      <th>province</th>\n",
       "      <th>lat</th>\n",
       "      <th>lon</th>\n",
       "      <th>zoom</th>\n",
       "      <th>updated</th>\n",
       "      <th>weather.day</th>\n",
       "      <th>weather.morning_temp</th>\n",
       "      <th>weather.morning_id</th>\n",
       "      <th>weather.morning_desc</th>\n",
       "      <th>weather.afternoon_temp</th>\n",
       "      <th>weather.afternoon_id</th>\n",
       "      <th>weather.afternoon_desc</th>\n",
       "    </tr>\n",
       "  </thead>\n",
       "  <tbody>\n",
       "    <tr>\n",
       "      <th>0</th>\n",
       "      <td>609d947e818e15902c74d831</td>\n",
       "      <td>20.55</td>\n",
       "      <td>9539</td>\n",
       "      <td>9539</td>\n",
       "      <td>Tunuyan</td>\n",
       "      <td>Mendoza</td>\n",
       "      <td>-33.58210373</td>\n",
       "      <td>-69.02268982</td>\n",
       "      <td>2</td>\n",
       "      <td>1557349200</td>\n",
       "      <td>1</td>\n",
       "      <td>10</td>\n",
       "      <td>2</td>\n",
       "      <td>Cielo parcialmente nublado. Vientos leves del ...</td>\n",
       "      <td>22</td>\n",
       "      <td>14</td>\n",
       "      <td>Nubosidad variable. Probabilidad de tormentas ...</td>\n",
       "    </tr>\n",
       "    <tr>\n",
       "      <th>1</th>\n",
       "      <td>609d947e818e15902c74d836</td>\n",
       "      <td>7.12</td>\n",
       "      <td>9553</td>\n",
       "      <td>9553</td>\n",
       "      <td>San Rafael</td>\n",
       "      <td>Mendoza</td>\n",
       "      <td>-34.60757828</td>\n",
       "      <td>-68.32798004</td>\n",
       "      <td>2</td>\n",
       "      <td>1557349200</td>\n",
       "      <td>1</td>\n",
       "      <td>13</td>\n",
       "      <td>4</td>\n",
       "      <td>Cielo nublado. Probabilidad de lluvias y torme...</td>\n",
       "      <td>18</td>\n",
       "      <td>3</td>\n",
       "      <td>Nubosidad variable. Probabilidad de lluvias y ...</td>\n",
       "    </tr>\n",
       "    <tr>\n",
       "      <th>2</th>\n",
       "      <td>609d947e818e15902c74d83b</td>\n",
       "      <td>77.99</td>\n",
       "      <td>9560</td>\n",
       "      <td>9560</td>\n",
       "      <td>General Alvear</td>\n",
       "      <td>Mendoza</td>\n",
       "      <td>-34.9721489</td>\n",
       "      <td>-67.68930054</td>\n",
       "      <td>2</td>\n",
       "      <td>1557349200</td>\n",
       "      <td>1</td>\n",
       "      <td>11</td>\n",
       "      <td>4</td>\n",
       "      <td>Cielo nublado. Probabilidad de lluvias y torme...</td>\n",
       "      <td>20</td>\n",
       "      <td>3</td>\n",
       "      <td>Nubosidad variable. Probabilidad de lluvias y ...</td>\n",
       "    </tr>\n",
       "    <tr>\n",
       "      <th>3</th>\n",
       "      <td>609d947e818e15902c74d840</td>\n",
       "      <td>66.80</td>\n",
       "      <td>4164</td>\n",
       "      <td>4164</td>\n",
       "      <td>San Bernardo</td>\n",
       "      <td>Buenos Aires</td>\n",
       "      <td>-36.69836044</td>\n",
       "      <td>-56.67993927</td>\n",
       "      <td>2</td>\n",
       "      <td>1557306000</td>\n",
       "      <td>1</td>\n",
       "      <td>12</td>\n",
       "      <td>10</td>\n",
       "      <td>Nublado</td>\n",
       "      <td>19</td>\n",
       "      <td>11</td>\n",
       "      <td>Inestable con probables precipitaciones</td>\n",
       "    </tr>\n",
       "    <tr>\n",
       "      <th>4</th>\n",
       "      <td>609d947e818e15902c74d844</td>\n",
       "      <td>64.47</td>\n",
       "      <td>9629</td>\n",
       "      <td>9629</td>\n",
       "      <td>Apóstoles</td>\n",
       "      <td>Misiones</td>\n",
       "      <td>-27.91513062</td>\n",
       "      <td>-55.75431442</td>\n",
       "      <td>2</td>\n",
       "      <td>1557349200</td>\n",
       "      <td>1</td>\n",
       "      <td>19</td>\n",
       "      <td>4</td>\n",
       "      <td>Probables neblinas y bancos de niebla. Nubosid...</td>\n",
       "      <td>26</td>\n",
       "      <td>4</td>\n",
       "      <td>Nubosidad variable. Probabilidad de lluvias y ...</td>\n",
       "    </tr>\n",
       "  </tbody>\n",
       "</table>\n",
       "</div>"
      ],
      "text/plain": [
       "                        _id   dist   lid   fid            name      province  \\\n",
       "0  609d947e818e15902c74d831  20.55  9539  9539         Tunuyan       Mendoza   \n",
       "1  609d947e818e15902c74d836   7.12  9553  9553      San Rafael       Mendoza   \n",
       "2  609d947e818e15902c74d83b  77.99  9560  9560  General Alvear       Mendoza   \n",
       "3  609d947e818e15902c74d840  66.80  4164  4164    San Bernardo  Buenos Aires   \n",
       "4  609d947e818e15902c74d844  64.47  9629  9629       Apóstoles      Misiones   \n",
       "\n",
       "            lat           lon zoom     updated  weather.day  \\\n",
       "0  -33.58210373  -69.02268982    2  1557349200            1   \n",
       "1  -34.60757828  -68.32798004    2  1557349200            1   \n",
       "2   -34.9721489  -67.68930054    2  1557349200            1   \n",
       "3  -36.69836044  -56.67993927    2  1557306000            1   \n",
       "4  -27.91513062  -55.75431442    2  1557349200            1   \n",
       "\n",
       "   weather.morning_temp  weather.morning_id  \\\n",
       "0                    10                   2   \n",
       "1                    13                   4   \n",
       "2                    11                   4   \n",
       "3                    12                  10   \n",
       "4                    19                   4   \n",
       "\n",
       "                                weather.morning_desc  weather.afternoon_temp  \\\n",
       "0  Cielo parcialmente nublado. Vientos leves del ...                      22   \n",
       "1  Cielo nublado. Probabilidad de lluvias y torme...                      18   \n",
       "2  Cielo nublado. Probabilidad de lluvias y torme...                      20   \n",
       "3                                            Nublado                      19   \n",
       "4  Probables neblinas y bancos de niebla. Nubosid...                      26   \n",
       "\n",
       "   weather.afternoon_id                             weather.afternoon_desc  \n",
       "0                    14  Nubosidad variable. Probabilidad de tormentas ...  \n",
       "1                     3  Nubosidad variable. Probabilidad de lluvias y ...  \n",
       "2                     3  Nubosidad variable. Probabilidad de lluvias y ...  \n",
       "3                    11            Inestable con probables precipitaciones  \n",
       "4                     4  Nubosidad variable. Probabilidad de lluvias y ...  "
      ]
     },
     "execution_count": 10,
     "metadata": {},
     "output_type": "execute_result"
    }
   ],
   "source": [
    "# Segunda forma \n",
    "\n",
    "df_api_2 = pd.json_normalize(data_smn) # Desarma los diccionarios anidados\n",
    "\n",
    "df_api_2.head()"
   ]
  },
  {
   "cell_type": "code",
   "execution_count": 11,
   "metadata": {},
   "outputs": [
    {
     "data": {
      "text/html": [
       "<div>\n",
       "<style scoped>\n",
       "    .dataframe tbody tr th:only-of-type {\n",
       "        vertical-align: middle;\n",
       "    }\n",
       "\n",
       "    .dataframe tbody tr th {\n",
       "        vertical-align: top;\n",
       "    }\n",
       "\n",
       "    .dataframe thead th {\n",
       "        text-align: right;\n",
       "    }\n",
       "</style>\n",
       "<table border=\"1\" class=\"dataframe\">\n",
       "  <thead>\n",
       "    <tr style=\"text-align: right;\">\n",
       "      <th></th>\n",
       "      <th>_id</th>\n",
       "      <th>dist</th>\n",
       "      <th>lid</th>\n",
       "      <th>fid</th>\n",
       "      <th>name</th>\n",
       "      <th>province</th>\n",
       "      <th>lat</th>\n",
       "      <th>lon</th>\n",
       "      <th>zoom</th>\n",
       "      <th>updated</th>\n",
       "      <th>weather</th>\n",
       "    </tr>\n",
       "  </thead>\n",
       "  <tbody>\n",
       "    <tr>\n",
       "      <th>0</th>\n",
       "      <td>609d947e818e15902c74d831</td>\n",
       "      <td>20.55</td>\n",
       "      <td>9539</td>\n",
       "      <td>9539</td>\n",
       "      <td>Tunuyan</td>\n",
       "      <td>Mendoza</td>\n",
       "      <td>-33.582104</td>\n",
       "      <td>-69.022690</td>\n",
       "      <td>2</td>\n",
       "      <td>1557349200</td>\n",
       "      <td>{'day': 1, 'morning_temp': 10, 'morning_id': 2...</td>\n",
       "    </tr>\n",
       "    <tr>\n",
       "      <th>1</th>\n",
       "      <td>609d947e818e15902c74d836</td>\n",
       "      <td>7.12</td>\n",
       "      <td>9553</td>\n",
       "      <td>9553</td>\n",
       "      <td>San Rafael</td>\n",
       "      <td>Mendoza</td>\n",
       "      <td>-34.607578</td>\n",
       "      <td>-68.327980</td>\n",
       "      <td>2</td>\n",
       "      <td>1557349200</td>\n",
       "      <td>{'day': 1, 'morning_temp': 13, 'morning_id': 4...</td>\n",
       "    </tr>\n",
       "    <tr>\n",
       "      <th>2</th>\n",
       "      <td>609d947e818e15902c74d83b</td>\n",
       "      <td>77.99</td>\n",
       "      <td>9560</td>\n",
       "      <td>9560</td>\n",
       "      <td>General Alvear</td>\n",
       "      <td>Mendoza</td>\n",
       "      <td>-34.972149</td>\n",
       "      <td>-67.689301</td>\n",
       "      <td>2</td>\n",
       "      <td>1557349200</td>\n",
       "      <td>{'day': 1, 'morning_temp': 11, 'morning_id': 4...</td>\n",
       "    </tr>\n",
       "    <tr>\n",
       "      <th>3</th>\n",
       "      <td>609d947e818e15902c74d840</td>\n",
       "      <td>66.80</td>\n",
       "      <td>4164</td>\n",
       "      <td>4164</td>\n",
       "      <td>San Bernardo</td>\n",
       "      <td>Buenos Aires</td>\n",
       "      <td>-36.698360</td>\n",
       "      <td>-56.679939</td>\n",
       "      <td>2</td>\n",
       "      <td>1557306000</td>\n",
       "      <td>{'day': 1, 'morning_temp': 12, 'morning_id': 1...</td>\n",
       "    </tr>\n",
       "    <tr>\n",
       "      <th>4</th>\n",
       "      <td>609d947e818e15902c74d844</td>\n",
       "      <td>64.47</td>\n",
       "      <td>9629</td>\n",
       "      <td>9629</td>\n",
       "      <td>Apóstoles</td>\n",
       "      <td>Misiones</td>\n",
       "      <td>-27.915131</td>\n",
       "      <td>-55.754314</td>\n",
       "      <td>2</td>\n",
       "      <td>1557349200</td>\n",
       "      <td>{'day': 1, 'morning_temp': 19, 'morning_id': 4...</td>\n",
       "    </tr>\n",
       "  </tbody>\n",
       "</table>\n",
       "</div>"
      ],
      "text/plain": [
       "                        _id   dist   lid   fid            name      province  \\\n",
       "0  609d947e818e15902c74d831  20.55  9539  9539         Tunuyan       Mendoza   \n",
       "1  609d947e818e15902c74d836   7.12  9553  9553      San Rafael       Mendoza   \n",
       "2  609d947e818e15902c74d83b  77.99  9560  9560  General Alvear       Mendoza   \n",
       "3  609d947e818e15902c74d840  66.80  4164  4164    San Bernardo  Buenos Aires   \n",
       "4  609d947e818e15902c74d844  64.47  9629  9629       Apóstoles      Misiones   \n",
       "\n",
       "         lat        lon  zoom     updated  \\\n",
       "0 -33.582104 -69.022690     2  1557349200   \n",
       "1 -34.607578 -68.327980     2  1557349200   \n",
       "2 -34.972149 -67.689301     2  1557349200   \n",
       "3 -36.698360 -56.679939     2  1557306000   \n",
       "4 -27.915131 -55.754314     2  1557349200   \n",
       "\n",
       "                                             weather  \n",
       "0  {'day': 1, 'morning_temp': 10, 'morning_id': 2...  \n",
       "1  {'day': 1, 'morning_temp': 13, 'morning_id': 4...  \n",
       "2  {'day': 1, 'morning_temp': 11, 'morning_id': 4...  \n",
       "3  {'day': 1, 'morning_temp': 12, 'morning_id': 1...  \n",
       "4  {'day': 1, 'morning_temp': 19, 'morning_id': 4...  "
      ]
     },
     "execution_count": 11,
     "metadata": {},
     "output_type": "execute_result"
    }
   ],
   "source": [
    "# Tercera forma\n",
    "\n",
    "json_str = json.dumps(data_smn) # Convierte data_smn que es una lista\n",
    "json_str_io = StringIO(json_str) # StringIO es el tipo de entrada que espera pd.read_json\n",
    "df_api_3 = pd.read_json(json_str_io)\n",
    "\n",
    "df_api_3.head()\n"
   ]
  },
  {
   "cell_type": "markdown",
   "metadata": {},
   "source": [
    "#### 3. Conectarse a una base de datos"
   ]
  },
  {
   "cell_type": "code",
   "execution_count": 12,
   "metadata": {},
   "outputs": [
    {
     "name": "stdout",
     "output_type": "stream",
     "text": [
      "Tablas disponibles en la DB:['IMDB', 'earning', 'genre']\n"
     ]
    }
   ],
   "source": [
    "DATABASE_URL = \"sqlite:///../datasets/movie.sqlite\"  # Path al archivo sqlite\n",
    "engine = create_engine(DATABASE_URL)\n",
    "\n",
    "# Obtener datos de las tablas\n",
    "metadata = MetaData()\n",
    "metadata.reflect(bind=engine)\n",
    "\n",
    "print(f\"Tablas disponibles en la DB:{list(metadata.tables.keys())}\")\n"
   ]
  },
  {
   "cell_type": "code",
   "execution_count": 13,
   "metadata": {},
   "outputs": [
    {
     "name": "stdout",
     "output_type": "stream",
     "text": [
      "Columnas disponibles en la tabla IMDB:['Movie_id', 'Title', 'Rating', 'TotalVotes', 'MetaCritic', 'Budget', 'Runtime', 'CVotes10', 'CVotes09', 'CVotes08', 'CVotes07', 'CVotes06', 'CVotes05', 'CVotes04', 'CVotes03', 'CVotes02', 'CVotes01', 'CVotesMale', 'CVotesFemale', 'CVotesU18', 'CVotesU18M', 'CVotesU18F', 'CVotes1829', 'CVotes1829M', 'CVotes1829F', 'CVotes3044', 'CVotes3044M', 'CVotes3044F', 'CVotes45A', 'CVotes45AM', 'CVotes45AF', 'CVotes1000', 'CVotesUS', 'CVotesnUS', 'VotesM', 'VotesF', 'VotesU18', 'VotesU18M', 'VotesU18F', 'Votes1829', 'Votes1829M', 'Votes1829F', 'Votes3044', 'Votes3044M', 'Votes3044F', 'Votes45A', 'Votes45AM', 'Votes45AF', 'VotesIMDB', 'Votes1000', 'VotesUS', 'VotesnUS']\n"
     ]
    }
   ],
   "source": [
    "tabla_imdb = metadata.tables['IMDB'] # Tabla IMDB\n",
    "print(f\"Columnas disponibles en la tabla IMDB:{list(tabla_imdb.columns.keys())}\")"
   ]
  },
  {
   "cell_type": "code",
   "execution_count": 14,
   "metadata": {},
   "outputs": [
    {
     "data": {
      "text/html": [
       "<div>\n",
       "<style scoped>\n",
       "    .dataframe tbody tr th:only-of-type {\n",
       "        vertical-align: middle;\n",
       "    }\n",
       "\n",
       "    .dataframe tbody tr th {\n",
       "        vertical-align: top;\n",
       "    }\n",
       "\n",
       "    .dataframe thead th {\n",
       "        text-align: right;\n",
       "    }\n",
       "</style>\n",
       "<table border=\"1\" class=\"dataframe\">\n",
       "  <thead>\n",
       "    <tr style=\"text-align: right;\">\n",
       "      <th></th>\n",
       "      <th>Movie_id</th>\n",
       "      <th>Title</th>\n",
       "      <th>Rating</th>\n",
       "      <th>TotalVotes</th>\n",
       "    </tr>\n",
       "  </thead>\n",
       "  <tbody>\n",
       "    <tr>\n",
       "      <th>0</th>\n",
       "      <td>36809</td>\n",
       "      <td>12 Years a Slave (2013)</td>\n",
       "      <td>8.1</td>\n",
       "      <td>496092</td>\n",
       "    </tr>\n",
       "    <tr>\n",
       "      <th>1</th>\n",
       "      <td>30114</td>\n",
       "      <td>127 Hours (2010)</td>\n",
       "      <td>7.6</td>\n",
       "      <td>297075</td>\n",
       "    </tr>\n",
       "    <tr>\n",
       "      <th>2</th>\n",
       "      <td>37367</td>\n",
       "      <td>50/50 (2011)</td>\n",
       "      <td>7.7</td>\n",
       "      <td>283935</td>\n",
       "    </tr>\n",
       "    <tr>\n",
       "      <th>3</th>\n",
       "      <td>49473</td>\n",
       "      <td>About Time (2013)</td>\n",
       "      <td>7.8</td>\n",
       "      <td>225412</td>\n",
       "    </tr>\n",
       "    <tr>\n",
       "      <th>4</th>\n",
       "      <td>14867</td>\n",
       "      <td>Amour (2012)</td>\n",
       "      <td>7.9</td>\n",
       "      <td>76121</td>\n",
       "    </tr>\n",
       "  </tbody>\n",
       "</table>\n",
       "</div>"
      ],
      "text/plain": [
       "  Movie_id                    Title  Rating  TotalVotes\n",
       "0    36809  12 Years a Slave (2013)     8.1      496092\n",
       "1    30114         127 Hours (2010)     7.6      297075\n",
       "2    37367             50/50 (2011)     7.7      283935\n",
       "3    49473        About Time (2013)     7.8      225412\n",
       "4    14867             Amour (2012)     7.9       76121"
      ]
     },
     "execution_count": 14,
     "metadata": {},
     "output_type": "execute_result"
    }
   ],
   "source": [
    "# Ejemplo: creamos la query a la tabla IMDB (buscamos las películas con rating >= 7)\n",
    "query_imdb = text(\"\"\"\n",
    "    SELECT Movie_id, Title, Rating, TotalVotes\n",
    "    FROM IMDB\n",
    "    WHERE Rating >= 7\n",
    "\"\"\")\n",
    "\n",
    "\n",
    "# Creamos la conexión\n",
    "with engine.connect() as connection:\n",
    "    # Cargamos el resultado de la query en un df de Pandas\n",
    "    df_sql_imdb = pd.read_sql(query_imdb, connection)\n",
    "\n",
    "# Display the first few rows\n",
    "df_sql_imdb.head()"
   ]
  },
  {
   "cell_type": "markdown",
   "metadata": {},
   "source": [
    "#### 4. Web scraping"
   ]
  },
  {
   "cell_type": "markdown",
   "metadata": {},
   "source": [
    "#### Atención: \n",
    "\n",
    "En este ejemplo utilizamos una web que está pensada para uso educativo. En un caso real, **SIEMPRE** antes de hacer scraping hay que:\n",
    "* Revisar términos y condiciones de uso del sitio web.\n",
    "* Revisar el archivo `robots.txt` del sitio web (ejemplo `https://wikipedia.com/robots.txt`) que contiene las recomendaciones del desarrollador.\n",
    "* Solicitar permiso al dueño del sitio."
   ]
  },
  {
   "cell_type": "code",
   "execution_count": 15,
   "metadata": {},
   "outputs": [],
   "source": [
    "# URL para hacer el scraping (títulos de libros)\n",
    "url = \"http://books.toscrape.com/\"\n",
    "\n",
    "# Traer el HTML\n",
    "response = requests.get(url)\n",
    "\n",
    "##--------Ejemplo simplificado del HTML-------------##\n",
    "# <article class=\"product_pod\">\n",
    "#     <h3><a href=\"catalogue/some-book_1/index.html\">Book Title</a></h3>\n",
    "#     <p class=\"price_color\">£10.99</p>\n",
    "#     <p class=\"star-rating Three\">★★★☆☆</p>\n",
    "# </article>\n",
    "\n",
    "\n",
    "if response.status_code == 200:\n",
    "    \n",
    "    # Parsear el HTML\n",
    "    soup = BeautifulSoup(response.text, \"html.parser\") # Permite encontrar los elementos a partir de los tags\n",
    "    \n",
    "    # Inicializar listas para guardar los datos\n",
    "    titulos = []\n",
    "    precios = []\n",
    "    ratings = []\n",
    "    \n",
    "    # Encontrar todos los artículos\n",
    "    books = soup.select(\"article.product_pod\")\n",
    "    \n",
    "    for book in books:\n",
    "        # Extraer título\n",
    "        titulo = book.select_one(\"h3 a\").text.strip()\n",
    "        titulos.append(titulo)\n",
    "        \n",
    "        # Extraer precio\n",
    "        precio = book.select_one(\".price_color\").text.strip()\n",
    "        precios.append(precio)\n",
    "        \n",
    "        # Extraer el rating\n",
    "        rating_elem = book.select_one(\".star-rating\")\n",
    "        rating = rating_elem[\"class\"][1] \n",
    "        ratings.append(rating)\n",
    "    \n",
    "else:\n",
    "    print(f\"No se pudo capturar el HTML (Error: {response.status_code})\")"
   ]
  },
  {
   "cell_type": "code",
   "execution_count": 16,
   "metadata": {},
   "outputs": [
    {
     "data": {
      "text/html": [
       "<div>\n",
       "<style scoped>\n",
       "    .dataframe tbody tr th:only-of-type {\n",
       "        vertical-align: middle;\n",
       "    }\n",
       "\n",
       "    .dataframe tbody tr th {\n",
       "        vertical-align: top;\n",
       "    }\n",
       "\n",
       "    .dataframe thead th {\n",
       "        text-align: right;\n",
       "    }\n",
       "</style>\n",
       "<table border=\"1\" class=\"dataframe\">\n",
       "  <thead>\n",
       "    <tr style=\"text-align: right;\">\n",
       "      <th></th>\n",
       "      <th>Titulos</th>\n",
       "      <th>Precios</th>\n",
       "      <th>Ratings</th>\n",
       "    </tr>\n",
       "  </thead>\n",
       "  <tbody>\n",
       "    <tr>\n",
       "      <th>0</th>\n",
       "      <td>A Light in the ...</td>\n",
       "      <td>Â£51.77</td>\n",
       "      <td>Three</td>\n",
       "    </tr>\n",
       "    <tr>\n",
       "      <th>1</th>\n",
       "      <td>Tipping the Velvet</td>\n",
       "      <td>Â£53.74</td>\n",
       "      <td>One</td>\n",
       "    </tr>\n",
       "    <tr>\n",
       "      <th>2</th>\n",
       "      <td>Soumission</td>\n",
       "      <td>Â£50.10</td>\n",
       "      <td>One</td>\n",
       "    </tr>\n",
       "    <tr>\n",
       "      <th>3</th>\n",
       "      <td>Sharp Objects</td>\n",
       "      <td>Â£47.82</td>\n",
       "      <td>Four</td>\n",
       "    </tr>\n",
       "    <tr>\n",
       "      <th>4</th>\n",
       "      <td>Sapiens: A Brief History ...</td>\n",
       "      <td>Â£54.23</td>\n",
       "      <td>Five</td>\n",
       "    </tr>\n",
       "  </tbody>\n",
       "</table>\n",
       "</div>"
      ],
      "text/plain": [
       "                        Titulos  Precios Ratings\n",
       "0            A Light in the ...  Â£51.77   Three\n",
       "1            Tipping the Velvet  Â£53.74     One\n",
       "2                    Soumission  Â£50.10     One\n",
       "3                 Sharp Objects  Â£47.82    Four\n",
       "4  Sapiens: A Brief History ...  Â£54.23    Five"
      ]
     },
     "execution_count": 16,
     "metadata": {},
     "output_type": "execute_result"
    }
   ],
   "source": [
    "# Crear un Pandas DataFrame a partir de las 3 listas resultantes del scraping\n",
    "df_web = pd.DataFrame({\n",
    "    \"Titulos\": titulos,\n",
    "    \"Precios\": precios,\n",
    "    \"Ratings\": ratings\n",
    "})\n",
    "\n",
    "df_web.head() "
   ]
  },
  {
   "cell_type": "markdown",
   "metadata": {},
   "source": [
    "### Introducción al análisis más detallado"
   ]
  },
  {
   "cell_type": "markdown",
   "metadata": {},
   "source": [
    "1. Ejemplo con dataset \"turismo.csv\""
   ]
  },
  {
   "cell_type": "code",
   "execution_count": 17,
   "metadata": {},
   "outputs": [
    {
     "data": {
      "text/html": [
       "<div>\n",
       "<style scoped>\n",
       "    .dataframe tbody tr th:only-of-type {\n",
       "        vertical-align: middle;\n",
       "    }\n",
       "\n",
       "    .dataframe tbody tr th {\n",
       "        vertical-align: top;\n",
       "    }\n",
       "\n",
       "    .dataframe thead th {\n",
       "        text-align: right;\n",
       "    }\n",
       "</style>\n",
       "<table border=\"1\" class=\"dataframe\">\n",
       "  <thead>\n",
       "    <tr style=\"text-align: right;\">\n",
       "      <th></th>\n",
       "      <th>indice_tiempo</th>\n",
       "      <th>turismo_receptivo</th>\n",
       "      <th>turismo_emisivo</th>\n",
       "      <th>saldo</th>\n",
       "    </tr>\n",
       "  </thead>\n",
       "  <tbody>\n",
       "    <tr>\n",
       "      <th>0</th>\n",
       "      <td>2010-01-01</td>\n",
       "      <td>254.157</td>\n",
       "      <td>162.680</td>\n",
       "      <td>91.477</td>\n",
       "    </tr>\n",
       "    <tr>\n",
       "      <th>1</th>\n",
       "      <td>2010-02-01</td>\n",
       "      <td>186.441</td>\n",
       "      <td>186.227</td>\n",
       "      <td>0.214</td>\n",
       "    </tr>\n",
       "    <tr>\n",
       "      <th>2</th>\n",
       "      <td>2010-03-01</td>\n",
       "      <td>203.821</td>\n",
       "      <td>167.262</td>\n",
       "      <td>36.559</td>\n",
       "    </tr>\n",
       "    <tr>\n",
       "      <th>3</th>\n",
       "      <td>2010-04-01</td>\n",
       "      <td>207.516</td>\n",
       "      <td>141.750</td>\n",
       "      <td>65.766</td>\n",
       "    </tr>\n",
       "    <tr>\n",
       "      <th>4</th>\n",
       "      <td>2010-05-01</td>\n",
       "      <td>191.665</td>\n",
       "      <td>154.430</td>\n",
       "      <td>37.235</td>\n",
       "    </tr>\n",
       "  </tbody>\n",
       "</table>\n",
       "</div>"
      ],
      "text/plain": [
       "  indice_tiempo  turismo_receptivo  turismo_emisivo   saldo\n",
       "0    2010-01-01            254.157          162.680  91.477\n",
       "1    2010-02-01            186.441          186.227   0.214\n",
       "2    2010-03-01            203.821          167.262  36.559\n",
       "3    2010-04-01            207.516          141.750  65.766\n",
       "4    2010-05-01            191.665          154.430  37.235"
      ]
     },
     "execution_count": 17,
     "metadata": {},
     "output_type": "execute_result"
    }
   ],
   "source": [
    "path=\"../datasets/turismo.csv\"\n",
    "\n",
    "df = pd.read_csv(path)\n",
    "\n",
    "df.head()"
   ]
  },
  {
   "cell_type": "markdown",
   "metadata": {},
   "source": [
    "2. Revisar datos faltantes y duplicados"
   ]
  },
  {
   "cell_type": "code",
   "execution_count": 18,
   "metadata": {},
   "outputs": [
    {
     "name": "stdout",
     "output_type": "stream",
     "text": [
      "Valores faltantes: indice_tiempo        0\n",
      "turismo_receptivo    0\n",
      "turismo_emisivo      0\n",
      "saldo                0\n",
      "dtype: int64\n"
     ]
    }
   ],
   "source": [
    "print(f\"Valores faltantes: {df.isnull().sum()}\")  # Calcular valores faltantes\n"
   ]
  },
  {
   "cell_type": "code",
   "execution_count": 19,
   "metadata": {},
   "outputs": [
    {
     "name": "stdout",
     "output_type": "stream",
     "text": [
      "Cantidad de datos duplicados: 0\n"
     ]
    }
   ],
   "source": [
    "print(\"Cantidad de datos duplicados:\", df.duplicated().sum())"
   ]
  },
  {
   "cell_type": "code",
   "execution_count": 20,
   "metadata": {
    "tags": []
   },
   "outputs": [
    {
     "name": "stdout",
     "output_type": "stream",
     "text": [
      "Columnas del dataframe:\n",
      "indice_tiempo         object\n",
      "turismo_receptivo    float64\n",
      "turismo_emisivo      float64\n",
      "saldo                float64\n",
      "dtype: object\n",
      "\n"
     ]
    }
   ],
   "source": [
    "print(f\"Columnas del dataframe:\\n{df.dtypes}\\n\")"
   ]
  },
  {
   "cell_type": "markdown",
   "metadata": {},
   "source": [
    "3. Inspeccionar y corregir tipos de datos"
   ]
  },
  {
   "cell_type": "code",
   "execution_count": 21,
   "metadata": {
    "tags": []
   },
   "outputs": [
    {
     "data": {
      "text/plain": [
       "indice_tiempo        datetime64[ns]\n",
       "turismo_receptivo           float64\n",
       "turismo_emisivo             float64\n",
       "saldo                       float64\n",
       "dtype: object"
      ]
     },
     "execution_count": 21,
     "metadata": {},
     "output_type": "execute_result"
    }
   ],
   "source": [
    "df[\"indice_tiempo\"] = pd.to_datetime(df[\"indice_tiempo\"])\n",
    "df.dtypes"
   ]
  },
  {
   "cell_type": "markdown",
   "metadata": {},
   "source": [
    "#### alternativamente:"
   ]
  },
  {
   "cell_type": "code",
   "execution_count": 22,
   "metadata": {
    "tags": []
   },
   "outputs": [
    {
     "data": {
      "text/plain": [
       "indice_tiempo        datetime64[ns]\n",
       "turismo_receptivo           float64\n",
       "turismo_emisivo             float64\n",
       "saldo                       float64\n",
       "dtype: object"
      ]
     },
     "execution_count": 22,
     "metadata": {},
     "output_type": "execute_result"
    }
   ],
   "source": [
    "df = pd.read_csv(path, parse_dates = ['indice_tiempo'])\n",
    "df.dtypes"
   ]
  },
  {
   "cell_type": "markdown",
   "metadata": {},
   "source": [
    "4. Creación de nuevas columnas"
   ]
  },
  {
   "cell_type": "code",
   "execution_count": 23,
   "metadata": {
    "tags": []
   },
   "outputs": [
    {
     "data": {
      "text/html": [
       "<div>\n",
       "<style scoped>\n",
       "    .dataframe tbody tr th:only-of-type {\n",
       "        vertical-align: middle;\n",
       "    }\n",
       "\n",
       "    .dataframe tbody tr th {\n",
       "        vertical-align: top;\n",
       "    }\n",
       "\n",
       "    .dataframe thead th {\n",
       "        text-align: right;\n",
       "    }\n",
       "</style>\n",
       "<table border=\"1\" class=\"dataframe\">\n",
       "  <thead>\n",
       "    <tr style=\"text-align: right;\">\n",
       "      <th></th>\n",
       "      <th>indice_tiempo</th>\n",
       "      <th>turismo_receptivo</th>\n",
       "      <th>turismo_emisivo</th>\n",
       "      <th>saldo</th>\n",
       "      <th>año</th>\n",
       "      <th>mes</th>\n",
       "    </tr>\n",
       "  </thead>\n",
       "  <tbody>\n",
       "    <tr>\n",
       "      <th>0</th>\n",
       "      <td>2010-01-01</td>\n",
       "      <td>254.157</td>\n",
       "      <td>162.680</td>\n",
       "      <td>91.477</td>\n",
       "      <td>2010</td>\n",
       "      <td>1</td>\n",
       "    </tr>\n",
       "    <tr>\n",
       "      <th>1</th>\n",
       "      <td>2010-02-01</td>\n",
       "      <td>186.441</td>\n",
       "      <td>186.227</td>\n",
       "      <td>0.214</td>\n",
       "      <td>2010</td>\n",
       "      <td>2</td>\n",
       "    </tr>\n",
       "    <tr>\n",
       "      <th>2</th>\n",
       "      <td>2010-03-01</td>\n",
       "      <td>203.821</td>\n",
       "      <td>167.262</td>\n",
       "      <td>36.559</td>\n",
       "      <td>2010</td>\n",
       "      <td>3</td>\n",
       "    </tr>\n",
       "    <tr>\n",
       "      <th>3</th>\n",
       "      <td>2010-04-01</td>\n",
       "      <td>207.516</td>\n",
       "      <td>141.750</td>\n",
       "      <td>65.766</td>\n",
       "      <td>2010</td>\n",
       "      <td>4</td>\n",
       "    </tr>\n",
       "    <tr>\n",
       "      <th>4</th>\n",
       "      <td>2010-05-01</td>\n",
       "      <td>191.665</td>\n",
       "      <td>154.430</td>\n",
       "      <td>37.235</td>\n",
       "      <td>2010</td>\n",
       "      <td>5</td>\n",
       "    </tr>\n",
       "  </tbody>\n",
       "</table>\n",
       "</div>"
      ],
      "text/plain": [
       "  indice_tiempo  turismo_receptivo  turismo_emisivo   saldo   año  mes\n",
       "0    2010-01-01            254.157          162.680  91.477  2010    1\n",
       "1    2010-02-01            186.441          186.227   0.214  2010    2\n",
       "2    2010-03-01            203.821          167.262  36.559  2010    3\n",
       "3    2010-04-01            207.516          141.750  65.766  2010    4\n",
       "4    2010-05-01            191.665          154.430  37.235  2010    5"
      ]
     },
     "execution_count": 23,
     "metadata": {},
     "output_type": "execute_result"
    }
   ],
   "source": [
    "df[\"año\"] = df[\"indice_tiempo\"].dt.year\n",
    "df[\"mes\"] = df[\"indice_tiempo\"].dt.month\n",
    "df.head()"
   ]
  },
  {
   "cell_type": "markdown",
   "metadata": {},
   "source": [
    "### Algunas visualizaciones"
   ]
  },
  {
   "cell_type": "code",
   "execution_count": 24,
   "metadata": {
    "tags": []
   },
   "outputs": [],
   "source": [
    "import matplotlib.pyplot as plt\n",
    "import seaborn as sns"
   ]
  },
  {
   "cell_type": "code",
   "execution_count": 28,
   "metadata": {
    "tags": []
   },
   "outputs": [
    {
     "data": {
      "image/png": "[encoded data removed]",
      "text/plain": [
       "<Figure size 1400x400 with 1 Axes>"
      ]
     },
     "metadata": {},
     "output_type": "display_data"
    }
   ],
   "source": [
    "# Turismo receptivo vs emisivo\n",
    "plt.figure(figsize=(14, 4))\n",
    "\n",
    "plt.plot(df[\"indice_tiempo\"], df[\"turismo_receptivo\"], label=\"Receptivo\")\n",
    "plt.plot(df[\"indice_tiempo\"], df[\"turismo_emisivo\"], label=\"Emisivo\")\n",
    "\n",
    "# Con Seaborn\n",
    "#sns.lineplot(data=df, x=\"indice_tiempo\", y=\"turismo_receptivo\", label=\"Receptivo\")\n",
    "#sns.lineplot(data=df, x=\"indice_tiempo\", y=\"turismo_emisivo\", label=\"Emisivo\")\n",
    "\n",
    "# Títulos y etiquetas\n",
    "plt.title(\"Turismo receptivo vs emisivo\")\n",
    "plt.xlabel(\"Fecha\")\n",
    "plt.ylabel(\"Cantidad de turistas\")\n",
    "plt.legend()\n",
    "plt.grid(True)\n",
    "\n",
    "plt.show()\n"
   ]
  },
  {
   "cell_type": "code",
   "execution_count": 29,
   "metadata": {
    "tags": []
   },
   "outputs": [
    {
     "data": {
      "image/png": "[encoded data removed]",
      "text/plain": [
       "<Figure size 1400x400 with 1 Axes>"
      ]
     },
     "metadata": {},
     "output_type": "display_data"
    }
   ],
   "source": [
    "# Turismo receptivo vs emisivo - media mensual\n",
    "plt.figure(figsize=(14, 4))\n",
    "sns.lineplot(data=df, x=\"año\", y=\"turismo_receptivo\", label=\"Receptivo\")\n",
    "sns.lineplot(data=df, x=\"año\", y=\"turismo_emisivo\", label=\"Emisivo\")\n",
    "\n",
    "# Títulos y etiquetas\n",
    "plt.title(\"Evolución del Turismo receptivo - Media mensual\")\n",
    "plt.xlabel(\"Año\")\n",
    "plt.ylabel(\"Promedio de Turismo Receptivo\")\n",
    "plt.grid(True)\n",
    "plt.show()\n"
   ]
  }
 ],
 "metadata": {
  "kernelspec": {
   "display_name": "ceia-analisis-de-datos",
   "language": "python",
   "name": "python3"
  },
  "language_info": {
   "codemirror_mode": {
    "name": "ipython",
    "version": 3
   },
   "file_extension": ".py",
   "mimetype": "text/x-python",
   "name": "python",
   "nbconvert_exporter": "python",
   "pygments_lexer": "ipython3",
   "version": "3.12.8"
  }
 },
 "nbformat": 4,
 "nbformat_minor": 4
}
